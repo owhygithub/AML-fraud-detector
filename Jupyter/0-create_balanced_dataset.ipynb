{
 "cells": [
  {
   "cell_type": "markdown",
   "metadata": {},
   "source": [
    "# CREATING BALANCED DATASETS depsite highly unbalanced input data.\n",
    "For traininng purposes only"
   ]
  },
  {
   "cell_type": "code",
   "execution_count": 5,
   "metadata": {},
   "outputs": [],
   "source": [
    "import pandas as pd\n",
    "import numpy as np\n",
    "\n",
    "# Read the original CSV file\n",
    "df = pd.read_csv(\"/Users/owhy/Documents/Datasets/HI-Small_Trans.csv\")"
   ]
  },
  {
   "cell_type": "code",
   "execution_count": 6,
   "metadata": {},
   "outputs": [],
   "source": [
    "# Separate rows with \"Is Laundering\" equal to 0 and 1\n",
    "df_0 = df[df[\"Is Laundering\"] == 0]\n",
    "df_1 = df[df[\"Is Laundering\"] == 1]"
   ]
  },
  {
   "cell_type": "code",
   "execution_count": 7,
   "metadata": {},
   "outputs": [],
   "source": [
    "# Calculate the number of instances for the new CSV file\n",
    "total_instances = 10000\n",
    "instances_0 = int(0.7 * total_instances)\n",
    "instances_1 = total_instances - instances_0\n",
    "\n",
    "# Randomly select instances from each category\n",
    "selected_indices_0 = np.random.choice(df_0.index, instances_0, replace=False)\n",
    "selected_indices_1 = np.random.choice(df_1.index, instances_1, replace=False)\n",
    "\n",
    "# Concatenate the selected rows\n",
    "selected_df_0 = df_0.loc[selected_indices_0]\n",
    "selected_df_1 = df_1.loc[selected_indices_1]\n",
    "selected_df = pd.concat([selected_df_0, selected_df_1])\n",
    "\n",
    "# Shuffle the concatenated rows\n",
    "selected_df = selected_df.sample(frac=1).reset_index(drop=True)"
   ]
  },
  {
   "cell_type": "code",
   "execution_count": 8,
   "metadata": {},
   "outputs": [],
   "source": [
    "# Write the shuffled rows to a new CSV file\n",
    "selected_df.to_csv(\"/Users/owhy/Documents/Datasets/HI-Small_Trans_balanced.csv\", index=False)"
   ]
  }
 ],
 "metadata": {
  "kernelspec": {
   "display_name": "Python 3",
   "language": "python",
   "name": "python3"
  },
  "language_info": {
   "codemirror_mode": {
    "name": "ipython",
    "version": 3
   },
   "file_extension": ".py",
   "mimetype": "text/x-python",
   "name": "python",
   "nbconvert_exporter": "python",
   "pygments_lexer": "ipython3",
   "version": "3.12.3"
  }
 },
 "nbformat": 4,
 "nbformat_minor": 2
}
