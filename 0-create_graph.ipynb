{
 "cells": [
  {
   "cell_type": "markdown",
   "metadata": {},
   "source": [
    "# CREATE GRAPH"
   ]
  },
  {
   "cell_type": "code",
   "execution_count": null,
   "metadata": {},
   "outputs": [],
   "source": [
    "import pickle\n",
    "import torch\n",
    "import networkx as nx\n",
    "from functions import AMLDataPreprocessing\n",
    "import torch"
   ]
  },
  {
   "cell_type": "markdown",
   "metadata": {},
   "source": [
    "# LOADING GRAPH from Jupyter Notebook \n",
    "\\(only use if not using Class Preprocessor)"
   ]
  },
  {
   "cell_type": "code",
   "execution_count": null,
   "metadata": {},
   "outputs": [],
   "source": [
    "dataset = \"HI-Small_Trans\"\n",
    "\n",
    "filename = f'/Users/owhy/Documents/Datasets/{dataset}.csv'\n",
    "# Create an instance of the AMLDataPreprocessing class\n",
    "data_preprocessor = AMLDataPreprocessing(filename)\n",
    "# Process the data\n",
    "input_data, graph_full, x, y, labels, links, edges_amount, node_features, edges_features, time_closeness = data_preprocessor.process_data()\n",
    "# Visualize\n",
    "visual = data_preprocessor.visualize_graph(links, labels)\n",
    "\n",
    "adjacency_matrix = torch.from_numpy(nx.adjacency_matrix(graph_full).todense()).to(torch.float)\n",
    "\n",
    "print(f\"input data: {input_data}\")\n",
    "print(f\"time_closeness element: {time_closeness}\")"
   ]
  },
  {
   "cell_type": "code",
   "execution_count": null,
   "metadata": {},
   "outputs": [],
   "source": [
    "with open(\"Saved-Data/graph.pickle\", \"wb\") as f:\n",
    "    pickle.dump({\n",
    "        'dataset': dataset,\n",
    "        'visual': visual,\n",
    "        'edges_features': edges_features,\n",
    "        'links': links,\n",
    "        'graph_full': graph_full,\n",
    "        'adjacency_matrix': adjacency_matrix,\n",
    "        'node_features': node_features,\n",
    "        'labels': labels,\n",
    "        'input_data': input_data,\n",
    "        'x': x,\n",
    "        'y': y,\n",
    "        'time_closeness': time_closeness\n",
    "    }, f)"
   ]
  }
 ],
 "metadata": {
  "kernelspec": {
   "display_name": "Python 3",
   "language": "python",
   "name": "python3"
  },
  "language_info": {
   "codemirror_mode": {
    "name": "ipython",
    "version": 3
   },
   "file_extension": ".py",
   "mimetype": "text/x-python",
   "name": "python",
   "nbconvert_exporter": "python",
   "pygments_lexer": "ipython3",
   "version": "3.12.3"
  }
 },
 "nbformat": 4,
 "nbformat_minor": 2
}
