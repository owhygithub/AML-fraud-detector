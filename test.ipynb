{
 "cells": [
  {
   "cell_type": "code",
   "execution_count": null,
   "metadata": {},
   "outputs": [],
   "source": []
  },
  {
   "cell_type": "code",
   "execution_count": 1,
   "metadata": {},
   "outputs": [
    {
     "name": "stderr",
     "output_type": "stream",
     "text": [
      "/Library/Frameworks/Python.framework/Versions/3.12/lib/python3.12/site-packages/tqdm/auto.py:21: TqdmWarning: IProgress not found. Please update jupyter and ipywidgets. See https://ipywidgets.readthedocs.io/en/stable/user_install.html\n",
      "  from .autonotebook import tqdm as notebook_tqdm\n"
     ]
    }
   ],
   "source": [
    "# Import the class\n",
    "from preprocessing import *"
   ]
  },
  {
   "cell_type": "code",
   "execution_count": 2,
   "metadata": {},
   "outputs": [
    {
     "name": "stdout",
     "output_type": "stream",
     "text": [
      "Shape of DataFrame - (4999, 11)\n",
      "---- info ----\n",
      "<class 'pandas.core.frame.DataFrame'>\n",
      "RangeIndex: 4999 entries, 0 to 4998\n",
      "Data columns (total 11 columns):\n",
      " #   Column              Non-Null Count  Dtype  \n",
      "---  ------              --------------  -----  \n",
      " 0   Timestamp           4999 non-null   object \n",
      " 1   From Bank           4999 non-null   int64  \n",
      " 2   Account             4999 non-null   object \n",
      " 3   To Bank             4999 non-null   int64  \n",
      " 4   Account.1           4999 non-null   object \n",
      " 5   Amount Received     4999 non-null   float64\n",
      " 6   Receiving Currency  4999 non-null   object \n",
      " 7   Amount Paid         4999 non-null   float64\n",
      " 8   Payment Currency    4999 non-null   object \n",
      " 9   Payment Format      4999 non-null   object \n",
      " 10  Is Laundering       4999 non-null   int64  \n",
      "dtypes: float64(2), int64(3), object(6)\n",
      "memory usage: 429.7+ KB\n",
      "None\n",
      "---- basic calculations ----\n",
      "          From Bank        To Bank  Amount Received   Amount Paid  \\\n",
      "count   4999.000000    4999.000000     4.999000e+03  4.999000e+03   \n",
      "mean    1789.501900    4942.668534     1.359356e+06  1.359356e+06   \n",
      "std     4284.999187   22743.152876     1.908775e+07  1.908775e+07   \n",
      "min        1.000000       1.000000     1.000000e-02  1.000000e-02   \n",
      "25%       10.000000      12.000000     2.042000e+01  2.042000e+01   \n",
      "50%      795.000000    1292.000000     2.647170e+03  2.647170e+03   \n",
      "75%     1601.000000    1674.000000     2.939065e+04  2.939065e+04   \n",
      "max    31440.000000  250810.000000     8.295520e+08  8.295520e+08   \n",
      "\n",
      "       Is Laundering  \n",
      "count    4999.000000  \n",
      "mean        0.000200  \n",
      "std         0.014144  \n",
      "min         0.000000  \n",
      "25%         0.000000  \n",
      "50%         0.000000  \n",
      "75%         0.000000  \n",
      "max         1.000000  \n",
      "Null elements?\n",
      "Timestamp             0\n",
      "From Bank             0\n",
      "Account               0\n",
      "To Bank               0\n",
      "Account.1             0\n",
      "Amount Received       0\n",
      "Receiving Currency    0\n",
      "Amount Paid           0\n",
      "Payment Currency      0\n",
      "Payment Format        0\n",
      "Is Laundering         0\n",
      "dtype: int64\n",
      "Fraudulent or Not? - Y labels\n",
      "Number of fraudulent transactions - 1\n",
      "Number of non-fraudulent transactions - 4998\n",
      "Laundering Accounts - 100428660\n"
     ]
    },
    {
     "name": "stderr",
     "output_type": "stream",
     "text": [
      "/Users/owhy/Documents/GitHub/AML-fraud-detector/preprocessing.py:87: SettingWithCopyWarning: \n",
      "A value is trying to be set on a copy of a slice from a DataFrame.\n",
      "Try using .loc[row_indexer,col_indexer] = value instead\n",
      "\n",
      "See the caveats in the documentation: https://pandas.pydata.org/pandas-docs/stable/user_guide/indexing.html#returning-a-view-versus-a-copy\n",
      "  edges_df[\"Timestamp\"] = pd.to_datetime(edges_df[\"Timestamp\"]).astype(int) // 10**9\n"
     ]
    },
    {
     "ename": "TypeError",
     "evalue": "can only concatenate list (not \"str\") to list",
     "output_type": "error",
     "traceback": [
      "\u001b[0;31m---------------------------------------------------------------------------\u001b[0m",
      "\u001b[0;31mTypeError\u001b[0m                                 Traceback (most recent call last)",
      "Cell \u001b[0;32mIn[2], line 6\u001b[0m\n\u001b[1;32m      4\u001b[0m aml_preprocessor\u001b[38;5;241m.\u001b[39mload_dataset()\n\u001b[1;32m      5\u001b[0m aml_preprocessor\u001b[38;5;241m.\u001b[39mpreprocess_node_matrix()\n\u001b[0;32m----> 6\u001b[0m \u001b[43maml_preprocessor\u001b[49m\u001b[38;5;241;43m.\u001b[39;49m\u001b[43mpreprocess_edge_matrix\u001b[49m\u001b[43m(\u001b[49m\u001b[43m)\u001b[49m\n\u001b[1;32m      7\u001b[0m aml_preprocessor\u001b[38;5;241m.\u001b[39mcreate_graphs()\n\u001b[1;32m      8\u001b[0m aml_preprocessor\u001b[38;5;241m.\u001b[39mcalculate_statistical_features()\n",
      "File \u001b[0;32m~/Documents/GitHub/AML-fraud-detector/preprocessing.py:45\u001b[0m, in \u001b[0;36mAMLDataPreprocessing.preprocess_edge_matrix\u001b[0;34m(self)\u001b[0m\n\u001b[1;32m     43\u001b[0m links \u001b[38;5;241m=\u001b[39m [{\u001b[38;5;124m'\u001b[39m\u001b[38;5;124msource\u001b[39m\u001b[38;5;124m'\u001b[39m: source, \u001b[38;5;124m'\u001b[39m\u001b[38;5;124mdestination\u001b[39m\u001b[38;5;124m'\u001b[39m: destination} \u001b[38;5;28;01mfor\u001b[39;00m source, destination \u001b[38;5;129;01min\u001b[39;00m \u001b[38;5;28mzip\u001b[39m(\u001b[38;5;28mself\u001b[39m\u001b[38;5;241m.\u001b[39mdata[\u001b[38;5;124m'\u001b[39m\u001b[38;5;124mAccount\u001b[39m\u001b[38;5;124m'\u001b[39m], \u001b[38;5;28mself\u001b[39m\u001b[38;5;241m.\u001b[39mdata[\u001b[38;5;124m'\u001b[39m\u001b[38;5;124mAccount.1\u001b[39m\u001b[38;5;124m'\u001b[39m])]\n\u001b[1;32m     44\u001b[0m \u001b[38;5;28mself\u001b[39m\u001b[38;5;241m.\u001b[39mlinks \u001b[38;5;241m=\u001b[39m links\n\u001b[0;32m---> 45\u001b[0m \u001b[38;5;28mself\u001b[39m\u001b[38;5;241m.\u001b[39medges_features \u001b[38;5;241m=\u001b[39m \u001b[38;5;28;43mself\u001b[39;49m\u001b[38;5;241;43m.\u001b[39;49m\u001b[43mencode_edge_features\u001b[49m\u001b[43m(\u001b[49m\u001b[43m)\u001b[49m\n",
      "File \u001b[0;32m~/Documents/GitHub/AML-fraud-detector/preprocessing.py:93\u001b[0m, in \u001b[0;36mAMLDataPreprocessing.encode_edge_features\u001b[0;34m(self)\u001b[0m\n\u001b[1;32m     91\u001b[0m max_len \u001b[38;5;241m=\u001b[39m \u001b[38;5;28mlen\u001b[39m(\u001b[38;5;28mstr\u001b[39m(edges_df[\u001b[38;5;124m\"\u001b[39m\u001b[38;5;124mAmount Paid\u001b[39m\u001b[38;5;124m\"\u001b[39m]\u001b[38;5;241m.\u001b[39mmax())\u001b[38;5;241m.\u001b[39msplit(\u001b[38;5;124m\"\u001b[39m\u001b[38;5;124m.\u001b[39m\u001b[38;5;124m\"\u001b[39m)[\u001b[38;5;241m0\u001b[39m])\n\u001b[1;32m     92\u001b[0m min_len \u001b[38;5;241m=\u001b[39m \u001b[38;5;28mlen\u001b[39m(\u001b[38;5;28mstr\u001b[39m(edges_df[\u001b[38;5;124m\"\u001b[39m\u001b[38;5;124mAmount Paid\u001b[39m\u001b[38;5;124m\"\u001b[39m]\u001b[38;5;241m.\u001b[39mmin())\u001b[38;5;241m.\u001b[39msplit(\u001b[38;5;124m\"\u001b[39m\u001b[38;5;124m.\u001b[39m\u001b[38;5;124m\"\u001b[39m)[\u001b[38;5;241m1\u001b[39m])\n\u001b[0;32m---> 93\u001b[0m encoded_amount_paid \u001b[38;5;241m=\u001b[39m \u001b[43mencode_payment_amount\u001b[49m\u001b[43m(\u001b[49m\u001b[43mamount_paid_col\u001b[49m\u001b[43m,\u001b[49m\u001b[43m \u001b[49m\u001b[43mmax_len\u001b[49m\u001b[43m,\u001b[49m\u001b[43m \u001b[49m\u001b[43mmin_len\u001b[49m\u001b[43m)\u001b[49m\n\u001b[1;32m     95\u001b[0m \u001b[38;5;66;03m# One-hot encode Payment Currency and Payment Format\u001b[39;00m\n\u001b[1;32m     96\u001b[0m edges_df \u001b[38;5;241m=\u001b[39m pd\u001b[38;5;241m.\u001b[39mconcat([edges_df, pd\u001b[38;5;241m.\u001b[39mget_dummies(edges_df[\u001b[38;5;124m\"\u001b[39m\u001b[38;5;124mPayment Currency\u001b[39m\u001b[38;5;124m\"\u001b[39m], dtype\u001b[38;5;241m=\u001b[39m\u001b[38;5;124m'\u001b[39m\u001b[38;5;124mint\u001b[39m\u001b[38;5;124m'\u001b[39m)], axis\u001b[38;5;241m=\u001b[39m\u001b[38;5;241m1\u001b[39m)\n",
      "File \u001b[0;32m~/Documents/GitHub/AML-fraud-detector/functions.py:138\u001b[0m, in \u001b[0;36mencode_payment_amount\u001b[0;34m(df_col, max_len, min_len)\u001b[0m\n\u001b[1;32m    136\u001b[0m \u001b[38;5;28;01mif\u001b[39;00m positive_decimals \u001b[38;5;241m<\u001b[39m max_len:\n\u001b[1;32m    137\u001b[0m     num_zeros \u001b[38;5;241m=\u001b[39m max_len \u001b[38;5;241m-\u001b[39m positive_decimals\n\u001b[0;32m--> 138\u001b[0m     x \u001b[38;5;241m=\u001b[39m \u001b[43m[\u001b[49m\u001b[38;5;124;43m'\u001b[39;49m\u001b[38;5;124;43m0\u001b[39;49m\u001b[38;5;124;43m'\u001b[39;49m\u001b[43m]\u001b[49m\u001b[43m \u001b[49m\u001b[38;5;241;43m*\u001b[39;49m\u001b[43m \u001b[49m\u001b[43mnum_zeros\u001b[49m\u001b[43m \u001b[49m\u001b[38;5;241;43m+\u001b[39;49m\u001b[43m \u001b[49m\u001b[43mx\u001b[49m\n\u001b[1;32m    139\u001b[0m     \u001b[38;5;66;03m# print(x)\u001b[39;00m\n\u001b[1;32m    140\u001b[0m     new_payment_list\u001b[38;5;241m.\u001b[39mappend(x)\n",
      "\u001b[0;31mTypeError\u001b[0m: can only concatenate list (not \"str\") to list"
     ]
    }
   ],
   "source": [
    "if __name__ == \"__main__\":\n",
    "    filename = \"/Users/owhy/Documents/Datasets/HI-Small_Trans_3.csv\"\n",
    "    aml_preprocessor = AMLDataPreprocessing(filename)\n",
    "    aml_preprocessor.load_dataset()\n",
    "    aml_preprocessor.preprocess_node_matrix()\n",
    "    aml_preprocessor.preprocess_edge_matrix()\n",
    "    aml_preprocessor.create_graphs()\n",
    "    aml_preprocessor.calculate_statistical_features()\n",
    "    aml_preprocessor.create_adjacency_matrix()\n",
    "    aml_preprocessor.create_input_data()\n",
    "    aml_preprocessor.save_data()\n"
   ]
  },
  {
   "cell_type": "code",
   "execution_count": null,
   "metadata": {},
   "outputs": [],
   "source": []
  }
 ],
 "metadata": {
  "kernelspec": {
   "display_name": "Python 3",
   "language": "python",
   "name": "python3"
  },
  "language_info": {
   "codemirror_mode": {
    "name": "ipython",
    "version": 3
   },
   "file_extension": ".py",
   "mimetype": "text/x-python",
   "name": "python",
   "nbconvert_exporter": "python",
   "pygments_lexer": "ipython3",
   "version": "3.12.3"
  }
 },
 "nbformat": 4,
 "nbformat_minor": 2
}
